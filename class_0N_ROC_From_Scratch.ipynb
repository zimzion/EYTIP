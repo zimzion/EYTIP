{
  "nbformat": 4,
  "nbformat_minor": 0,
  "metadata": {
    "colab": {
      "name": "class_0N_ROC_From_Scratch.ipynb",
      "provenance": [],
      "include_colab_link": true
    },
    "kernelspec": {
      "name": "python3",
      "display_name": "Python 3"
    }
  },
  "cells": [
    {
      "cell_type": "markdown",
      "metadata": {
        "id": "view-in-github",
        "colab_type": "text"
      },
      "source": [
        "<a href=\"https://colab.research.google.com/github/zimzion/EYTIP/blob/master/class_0N_ROC_From_Scratch.ipynb\" target=\"_parent\"><img src=\"https://colab.research.google.com/assets/colab-badge.svg\" alt=\"Open In Colab\"/></a>"
      ]
    },
    {
      "cell_type": "code",
      "metadata": {
        "id": "G9YeVZ1C-JJH",
        "colab_type": "code",
        "colab": {
          "base_uri": "https://localhost:8080/",
          "height": 53
        },
        "outputId": "cb651604-72de-49ff-b520-203e1d84ab66"
      },
      "source": [
        "from sklearn.datasets import load_breast_cancer\n",
        "from sklearn.linear_model import *\n",
        "from sklearn.model_selection import train_test_split\n",
        "import numpy as np\n",
        "# Load datasetd\n",
        "dataset = load_breast_cancer()\n",
        "# Split data into train-test pools \n",
        "train, test, train_labels, test_labels = train_test_split(dataset['data'],\n",
        "                                                          dataset['target'],\n",
        "                                                          test_size=0.33)\n",
        "# Train model \n",
        "logregr = LogisticRegression().fit(train, train_labels)"
      ],
      "execution_count": 39,
      "outputs": [
        {
          "output_type": "stream",
          "text": [
            "/usr/local/lib/python3.6/dist-packages/sklearn/linear_model/logistic.py:432: FutureWarning: Default solver will be changed to 'lbfgs' in 0.22. Specify a solver to silence this warning.\n",
            "  FutureWarning)\n"
          ],
          "name": "stderr"
        }
      ]
    },
    {
      "cell_type": "code",
      "metadata": {
        "id": "CmsU8taK-d_m",
        "colab_type": "code",
        "colab": {}
      },
      "source": [
        "# Rename, listify \n",
        "actuals = list(test_labels)\n",
        "# Predict probablities of test data [0,1]\n",
        "scores = list(logregr.predict_proba(test)[:,1])"
      ],
      "execution_count": 0,
      "outputs": []
    },
    {
      "cell_type": "code",
      "metadata": {
        "id": "i5sDwHXg-shh",
        "colab_type": "code",
        "colab": {}
      },
      "source": [
        "# Predict binary outcomes (0,1)\n",
        "predictions = list(logregr.predict(test))\n",
        "# Equivalently \n",
        "predictions = [1 if s>0.5 else 0 for s in scores]"
      ],
      "execution_count": 0,
      "outputs": []
    },
    {
      "cell_type": "code",
      "metadata": {
        "id": "5w12_CTb-vQy",
        "colab_type": "code",
        "colab": {
          "base_uri": "https://localhost:8080/",
          "height": 35
        },
        "outputId": "48b6d781-a045-4060-ccdb-803ce2f47444"
      },
      "source": [
        "print(\"Accuracy = %.3f\" % (sum([p==a for p, a in zip(predictions, actuals)])/len(predictions)))"
      ],
      "execution_count": 4,
      "outputs": [
        {
          "output_type": "stream",
          "text": [
            "Accuracy = 0.910\n"
          ],
          "name": "stdout"
        }
      ]
    },
    {
      "cell_type": "code",
      "metadata": {
        "id": "2H2dzKFt-xG2",
        "colab_type": "code",
        "colab": {}
      },
      "source": [
        "plot_data = [(i, prob, actual) for i, (prob, actual) in enumerate(zip(scores, actuals))]\n",
        "data_filter = lambda cate : filter(lambda x : x[2] == cate, plot_data)"
      ],
      "execution_count": 0,
      "outputs": []
    },
    {
      "cell_type": "code",
      "metadata": {
        "id": "l51K3wP5EO9P",
        "colab_type": "code",
        "colab": {
          "base_uri": "https://localhost:8080/",
          "height": 265
        },
        "outputId": "3369cc52-d0c7-41e0-8df1-b6fd2f190709"
      },
      "source": [
        "%matplotlib inline\n",
        "import matplotlib.pyplot as plt\n",
        "colors = ['r', 'b']\n",
        "labels = ['False', 'True']\n",
        "\n",
        "fig, ax = plt.subplots()\n",
        "for i in set(test_labels):\n",
        "  filtered_data = list(data_filter(i))\n",
        "  x, y, _ = list(map(list, zip(*filtered_data)))\n",
        "  ax.scatter(x, y, color=colors[i], label=labels[i])\n",
        "ax.legend()\n",
        "plt.show()"
      ],
      "execution_count": 36,
      "outputs": [
        {
          "output_type": "display_data",
          "data": {
            "image/png": "[encoded data removed]",
            "text/plain": [
              "<Figure size 432x288 with 1 Axes>"
            ]
          },
          "metadata": {
            "tags": []
          }
        }
      ]
    },
    {
      "cell_type": "code",
      "metadata": {
        "id": "R8lhjBanH2Lh",
        "colab_type": "code",
        "colab": {}
      },
      "source": [
        "import collections\n",
        "ConfusionMatrix = collections.namedtuple('conf', ['tp','fp','tn','fn']) \n",
        "\n",
        "def calc_ConfusionMatrix(actuals, scores, threshold=0.5, positive_label=1):\n",
        "    tp=fp=tn=fn=0\n",
        "    bool_actuals = [act==positive_label for act in actuals]\n",
        "    for truth, score in zip(bool_actuals, scores):\n",
        "        if score > threshold:                      # predicted positive \n",
        "            if truth:                              # actually positive \n",
        "                tp += 1\n",
        "            else:                                  # actually negative              \n",
        "                fp += 1          \n",
        "        else:                                      # predicted negative \n",
        "            if not truth:                          # actually negative \n",
        "                tn += 1                          \n",
        "            else:                                  # actually positive \n",
        "                fn += 1\n",
        "    return ConfusionMatrix(tp, fp, tn, fn)\n",
        "\n",
        "def ACC(conf_mtrx):\n",
        "    return (conf_mtrx.tp + conf_mtrx.tn) / (conf_mtrx.fp + conf_mtrx.tn + conf_mtrx.tp + conf_mtrx.fn)\n",
        "\n",
        "def FPR(conf_mtrx):\n",
        "    return conf_mtrx.fp / (conf_mtrx.fp + conf_mtrx.tn) if (conf_mtrx.fp + conf_mtrx.tn)!=0 else 0\n",
        "\n",
        "def TPR(conf_mtrx):\n",
        "    return conf_mtrx.tp / (conf_mtrx.tp + conf_mtrx.fn) if (conf_mtrx.tp + conf_mtrx.fn)!=0 else 0\n",
        "\n",
        "def apply(actuals, scores, **fxns):\n",
        "    # generate thresholds over score domain \n",
        "    low = min(scores)\n",
        "    high = max(scores)\n",
        "    step = (abs(low) + abs(high)) / 1000\n",
        "    thresholds = np.arange(low-step, high+step, step)\n",
        "    # calculate confusion matrices for all thresholds\n",
        "    confusionMatrices = []\n",
        "    for threshold in thresholds:\n",
        "        confusionMatrices.append(calc_ConfusionMatrix(actuals, scores, threshold))\n",
        "    # apply functions to confusion matrices \n",
        "    results = {fname:list(map(fxn, confusionMatrices)) for fname, fxn in fxns.items()}\n",
        "    results[\"THR\"] = thresholds\n",
        "    return results"
      ],
      "execution_count": 0,
      "outputs": []
    },
    {
      "cell_type": "code",
      "metadata": {
        "id": "pjxULyi6L5y4",
        "colab_type": "code",
        "colab": {}
      },
      "source": [
        "acc = apply(actuals,  scores, ACC=ACC)"
      ],
      "execution_count": 0,
      "outputs": []
    },
    {
      "cell_type": "code",
      "metadata": {
        "id": "VbFvwg8-L6vr",
        "colab_type": "code",
        "colab": {
          "base_uri": "https://localhost:8080/",
          "height": 265
        },
        "outputId": "d992f6f0-933c-46b9-f98d-2655a9616b74"
      },
      "source": [
        "_, ax = plt.subplots()\n",
        "ax.plot(acc['THR'], acc['ACC'])\n",
        "plt.show()"
      ],
      "execution_count": 49,
      "outputs": [
        {
          "output_type": "display_data",
          "data": {
            "image/png": "[encoded data removed]",
            "text/plain": [
              "<Figure size 432x288 with 1 Axes>"
            ]
          },
          "metadata": {
            "tags": []
          }
        }
      ]
    },
    {
      "cell_type": "code",
      "metadata": {
        "id": "rYUh0LQKMBdS",
        "colab_type": "code",
        "colab": {}
      },
      "source": [
        "def ROC(actuals, scores):\n",
        "    return apply(actuals, scores, FPR=FPR, TPR=TPR)\n",
        "\n",
        "roc = ROC(actuals, scores)"
      ],
      "execution_count": 0,
      "outputs": []
    },
    {
      "cell_type": "code",
      "metadata": {
        "id": "yUqGBmXhNbY6",
        "colab_type": "code",
        "colab": {
          "base_uri": "https://localhost:8080/",
          "height": 265
        },
        "outputId": "24be2fdf-22aa-49ed-8ab1-3856ccd42027"
      },
      "source": [
        "_, ax = plt.subplots()\n",
        "ax.plot(roc['FPR'], roc['TPR'])\n",
        "plt.show()"
      ],
      "execution_count": 52,
      "outputs": [
        {
          "output_type": "display_data",
          "data": {
            "image/png": "[encoded data removed]",
            "text/plain": [
              "<Figure size 432x288 with 1 Axes>"
            ]
          },
          "metadata": {
            "tags": []
          }
        }
      ]
    },
    {
      "cell_type": "code",
      "metadata": {
        "id": "RgV_2oK0Ng4n",
        "colab_type": "code",
        "colab": {}
      },
      "source": [
        "gd = list()\n",
        "for i in set(train_labels):\n",
        "  filtered_data = list(data_filter(i))\n",
        "  _, y, _ = list(map(list, zip(*filtered_data)))\n",
        "  m = np.mean(y)\n",
        "  sd = np.std(y)\n",
        "  gd.append((m, sd))"
      ],
      "execution_count": 0,
      "outputs": []
    },
    {
      "cell_type": "code",
      "metadata": {
        "id": "JglLOM3uUG4t",
        "colab_type": "code",
        "colab": {}
      },
      "source": [
        "def pdf(x, std, mean):\n",
        "    const = 1.0 / np.sqrt(2*np.pi*(std**2))\n",
        "    pdf_normal_dist = const*np.exp(-((x-mean)**2)/(2.0*(std**2)))\n",
        "    return pdf_normal_dist"
      ],
      "execution_count": 0,
      "outputs": []
    },
    {
      "cell_type": "code",
      "metadata": {
        "id": "lWG7HbrsUKDr",
        "colab_type": "code",
        "colab": {
          "base_uri": "https://localhost:8080/",
          "height": 35
        },
        "outputId": "ff7b5caf-339a-4f23-ee56-1ccc34efed7a"
      },
      "source": [
        "print(gd)"
      ],
      "execution_count": 56,
      "outputs": [
        {
          "output_type": "stream",
          "text": [
            "[(0.10685477674263076, 0.2557305906714232), (0.9278174774575091, 0.19993857969440246)]\n"
          ],
          "name": "stdout"
        }
      ]
    },
    {
      "cell_type": "code",
      "metadata": {
        "id": "lsF_UdFHVGLM",
        "colab_type": "code",
        "colab": {}
      },
      "source": [
        "x = np.linspace(-1, 2, num=1000)\n",
        "pdf_list = list()\n",
        "for m, std in gd:\n",
        "  pdf_dist = pdf(x, std, m)\n",
        "  pdf_list.append(pdf_dist)"
      ],
      "execution_count": 0,
      "outputs": []
    },
    {
      "cell_type": "code",
      "metadata": {
        "id": "D9YRDwtaVeT4",
        "colab_type": "code",
        "colab": {}
      },
      "source": [
        "def plot_pdf(good_pdf, bad_pdf, ax):\n",
        "    #good_pdf[0] = 0\n",
        "    #good_pdf[-1] = 0\n",
        "    #bad_pdf[0] = 0\n",
        "    #bad_pdf[-1] = 0\n",
        "\n",
        "    ax.fill(x, good_pdf, \"g\", alpha=0.5)\n",
        "    ax.fill(x, bad_pdf,\"r\", alpha=0.5)\n",
        "    ax.set_xlim([-1,2])\n",
        "    ax.set_ylim([0,3])\n",
        "    ax.set_title(\"Probability Distribution\", fontsize=14)\n",
        "    ax.set_ylabel('Counts', fontsize=12)\n",
        "    ax.set_xlabel('P(X=\"bad\")', fontsize=12)\n",
        "    ax.legend([\"good\",\"bad\"])"
      ],
      "execution_count": 0,
      "outputs": []
    },
    {
      "cell_type": "code",
      "metadata": {
        "id": "AbNCxkvcVhZ2",
        "colab_type": "code",
        "colab": {
          "base_uri": "https://localhost:8080/",
          "height": 354
        },
        "outputId": "daf94578-ecfa-491e-a797-ed1360446e6e"
      },
      "source": [
        "fig, ax = plt.subplots(1,1, figsize=(10,5))\n",
        "plot_pdf(pdf_list[0], pdf_list[1], ax)"
      ],
      "execution_count": 138,
      "outputs": [
        {
          "output_type": "display_data",
          "data": {
            "image/png": "[encoded data removed]",
            "text/plain": [
              "<Figure size 720x360 with 1 Axes>"
            ]
          },
          "metadata": {
            "tags": []
          }
        }
      ]
    },
    {
      "cell_type": "code",
      "metadata": {
        "id": "vPUwraveVjjU",
        "colab_type": "code",
        "colab": {}
      },
      "source": [
        "cm = calc_ConfusionMatrix(actuals, scores, threshold=0.8)"
      ],
      "execution_count": 0,
      "outputs": []
    },
    {
      "cell_type": "code",
      "metadata": {
        "id": "9llTfXYjXwSz",
        "colab_type": "code",
        "colab": {
          "base_uri": "https://localhost:8080/",
          "height": 35
        },
        "outputId": "4b69b26f-3d85-4f20-ea3f-d402a4b07f35"
      },
      "source": [
        "cm"
      ],
      "execution_count": 130,
      "outputs": [
        {
          "output_type": "execute_result",
          "data": {
            "text/plain": [
              "conf(tp=97, fp=5, tn=76, fn=10)"
            ]
          },
          "metadata": {
            "tags": []
          },
          "execution_count": 130
        }
      ]
    },
    {
      "cell_type": "code",
      "metadata": {
        "id": "rM-_7kMDXw5p",
        "colab_type": "code",
        "colab": {}
      },
      "source": [
        "true_count = len(list(filter(lambda x : x == 1, test_labels)))\n",
        "false_count = len(list(filter(lambda x : x == 0, test_labels)))\n",
        "\n",
        "def get_conf_from_dist(threshold):\n",
        "  fp = sum(prob for _, prob in filter(lambda x : x[0] >= threshold, zip(x, pdf_list[0]))) / false_count\n",
        "  tn = sum(prob for _, prob in filter(lambda x : x[0] < threshold, zip(x, pdf_list[0]))) / false_count\n",
        "  tp = sum(prob for _, prob in filter(lambda x : x[0] >= threshold, zip(x, pdf_list[1]))) / true_count\n",
        "  fn = sum(prob for _, prob in filter(lambda x : x[0] < threshold, zip(x, pdf_list[1]))) / true_count\n",
        "  return ConfusionMatrix(tp, fp, tn, fn)"
      ],
      "execution_count": 0,
      "outputs": []
    },
    {
      "cell_type": "code",
      "metadata": {
        "id": "QzOk6j0FZRmd",
        "colab_type": "code",
        "colab": {}
      },
      "source": [
        "cm_from_dist = get_conf_from_dist(0.8)"
      ],
      "execution_count": 0,
      "outputs": []
    },
    {
      "cell_type": "code",
      "metadata": {
        "id": "tujNhYbscinY",
        "colab_type": "code",
        "colab": {
          "base_uri": "https://localhost:8080/",
          "height": 35
        },
        "outputId": "6de52deb-28aa-4cc2-dd57-9f76fc9b354a"
      },
      "source": [
        "cm_from_dist"
      ],
      "execution_count": 142,
      "outputs": [
        {
          "output_type": "execute_result",
          "data": {
            "text/plain": [
              "conf(tp=2.0657026258297964, fp=0.016155590737878936, tn=4.809896049484043, fn=0.7326165918092933)"
            ]
          },
          "metadata": {
            "tags": []
          },
          "execution_count": 142
        }
      ]
    },
    {
      "cell_type": "code",
      "metadata": {
        "id": "QqZm7RxPcja9",
        "colab_type": "code",
        "colab": {
          "base_uri": "https://localhost:8080/",
          "height": 35
        },
        "outputId": "087ce3ab-7d5c-438c-a439-a0a2165b7b58"
      },
      "source": [
        "ACC(cm)"
      ],
      "execution_count": 143,
      "outputs": [
        {
          "output_type": "execute_result",
          "data": {
            "text/plain": [
              "0.9202127659574468"
            ]
          },
          "metadata": {
            "tags": []
          },
          "execution_count": 143
        }
      ]
    },
    {
      "cell_type": "code",
      "metadata": {
        "id": "dz-yED2Ccooo",
        "colab_type": "code",
        "colab": {
          "base_uri": "https://localhost:8080/",
          "height": 35
        },
        "outputId": "c1910bae-03e8-466f-cd7a-db954a868690"
      },
      "source": [
        "ACC(cm_from_dist)"
      ],
      "execution_count": 144,
      "outputs": [
        {
          "output_type": "execute_result",
          "data": {
            "text/plain": [
              "0.9017922663382565"
            ]
          },
          "metadata": {
            "tags": []
          },
          "execution_count": 144
        }
      ]
    },
    {
      "cell_type": "code",
      "metadata": {
        "id": "RRlB92Vtfizu",
        "colab_type": "code",
        "colab": {}
      },
      "source": [
        ""
      ],
      "execution_count": 0,
      "outputs": []
    }
  ]
}