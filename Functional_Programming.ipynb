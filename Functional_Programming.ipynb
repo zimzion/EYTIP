{
  "nbformat": 4,
  "nbformat_minor": 0,
  "metadata": {
    "colab": {
      "name": "Functional Programming.ipynb",
      "provenance": [],
      "include_colab_link": true
    },
    "kernelspec": {
      "name": "python3",
      "display_name": "Python 3"
    }
  },
  "cells": [
    {
      "cell_type": "markdown",
      "metadata": {
        "id": "view-in-github",
        "colab_type": "text"
      },
      "source": [
        "<a href=\"https://colab.research.google.com/github/zimzion/EYTIP/blob/master/Functional_Programming.ipynb\" target=\"_parent\"><img src=\"https://colab.research.google.com/assets/colab-badge.svg\" alt=\"Open In Colab\"/></a>"
      ]
    },
    {
      "cell_type": "code",
      "metadata": {
        "id": "ZrAnJwSpWTsC",
        "colab_type": "code",
        "colab": {}
      },
      "source": [
        "import math\n",
        "import numpy as np"
      ],
      "execution_count": 0,
      "outputs": []
    },
    {
      "cell_type": "code",
      "metadata": {
        "id": "h2DWf9xAVVK_",
        "colab_type": "code",
        "colab": {}
      },
      "source": [
        "def pfactorsl(x):\n",
        "  if x % 2 == 0:\n",
        "    yield 2\n",
        "    if x // 2 > 1:\n",
        "      yield from pfactorsl(x // 2)\n",
        "    return\n",
        "\n",
        "  to = int(math.sqrt(x) + .5) + 1\n",
        "  for i in range(3, to, 2):\n",
        "    if x % i == 0:\n",
        "      yield i\n",
        "      if x // i > 1:\n",
        "        yield from pfactorsl(x // i)\n",
        "      return\n",
        "  yield x"
      ],
      "execution_count": 0,
      "outputs": []
    },
    {
      "cell_type": "code",
      "metadata": {
        "id": "WX5abn56WHie",
        "colab_type": "code",
        "colab": {
          "base_uri": "https://localhost:8080/",
          "height": 34
        },
        "outputId": "72028f94-73f9-4dc4-94a7-2017820af1cb"
      },
      "source": [
        "n = 1023\n",
        "factors = list(pfactorsl(n))\n",
        "n2 = np.prod(factors)\n",
        "mul_str = ' X '.join([str(e) for e in factors])\n",
        "print(f'{mul_str} = {n2} = {n} ({n==n2})')"
      ],
      "execution_count": 48,
      "outputs": [
        {
          "output_type": "stream",
          "text": [
            "3 X 11 X 31 = 1023 = 1023 (True)\n"
          ],
          "name": "stdout"
        }
      ]
    },
    {
      "cell_type": "code",
      "metadata": {
        "id": "23dNL_LEn9La",
        "colab_type": "code",
        "colab": {}
      },
      "source": [
        ""
      ],
      "execution_count": 0,
      "outputs": []
    }
  ]
}