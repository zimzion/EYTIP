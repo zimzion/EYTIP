{
  "nbformat": 4,
  "nbformat_minor": 0,
  "metadata": {
    "colab": {
      "name": "Functional Programming.ipynb",
      "provenance": [],
      "include_colab_link": true
    },
    "kernelspec": {
      "name": "python3",
      "display_name": "Python 3"
    }
  },
  "cells": [
    {
      "cell_type": "markdown",
      "metadata": {
        "id": "view-in-github",
        "colab_type": "text"
      },
      "source": [
        "<a href=\"https://colab.research.google.com/github/zimzion/EYTIP/blob/master/Functional_Programming.ipynb\" target=\"_parent\"><img src=\"https://colab.research.google.com/assets/colab-badge.svg\" alt=\"Open In Colab\"/></a>"
      ]
    },
    {
      "cell_type": "code",
      "metadata": {
        "id": "ZrAnJwSpWTsC",
        "colab_type": "code",
        "colab": {}
      },
      "source": [
        "import math\n",
        "import numpy as np"
      ],
      "execution_count": 0,
      "outputs": []
    },
    {
      "cell_type": "code",
      "metadata": {
        "id": "h2DWf9xAVVK_",
        "colab_type": "code",
        "colab": {}
      },
      "source": [
        "def pfactorsl(x):\n",
        "  if x % 2 == 0:\n",
        "    yield 2\n",
        "    if x // 2 > 1:\n",
        "      yield from pfactorsl(x // 2)\n",
        "    return\n",
        "\n",
        "  to = int(math.sqrt(x) + .5) + 1\n",
        "  for i in range(3, to, 2):\n",
        "    if x % i == 0:\n",
        "      yield i\n",
        "      if x // i > 1:\n",
        "        yield from pfactorsl(x // i)\n",
        "      return\n",
        "  yield x"
      ],
      "execution_count": 0,
      "outputs": []
    },
    {
      "cell_type": "code",
      "metadata": {
        "id": "WX5abn56WHie",
        "colab_type": "code",
        "outputId": "72028f94-73f9-4dc4-94a7-2017820af1cb",
        "colab": {
          "base_uri": "https://localhost:8080/",
          "height": 34
        }
      },
      "source": [
        "n = 1023\n",
        "factors = list(pfactorsl(n))\n",
        "n2 = np.prod(factors)\n",
        "mul_str = ' X '.join([str(e) for e in factors])\n",
        "print(f'{mul_str} = {n2} = {n} ({n==n2})')"
      ],
      "execution_count": 0,
      "outputs": [
        {
          "output_type": "stream",
          "text": [
            "3 X 11 X 31 = 1023 = 1023 (True)\n"
          ],
          "name": "stdout"
        }
      ]
    },
    {
      "cell_type": "code",
      "metadata": {
        "id": "bK92dmbyU9qJ",
        "colab_type": "code",
        "colab": {}
      },
      "source": [
        "import collections\n",
        "from collections import namedtuple\n",
        "\n",
        "Rank_Data = namedtuple(\"Rank_Data\", (\"rank_seq\", \"raw\"))"
      ],
      "execution_count": 0,
      "outputs": []
    },
    {
      "cell_type": "code",
      "metadata": {
        "id": "NkiADXcLWOaJ",
        "colab_type": "code",
        "colab": {}
      },
      "source": [
        "def yield_sequence(rank, same_rank_iter):\n",
        "  head = next(same_rank_iter)\n",
        "  yield rank, head\n",
        "  yield from yield_sequence(rank, same_rank_iter)\n",
        "\n",
        "def ranker(sorted_iter, base, same_rank_seq, key):\n",
        "  try:\n",
        "    value = next(sorted_iter)\n",
        "  except StopIteration:\n",
        "    dups = len(same_rank_seq)\n",
        "    yield from yield_sequence((base+1+base+dups)/2, iter(same_rank_seq))\n",
        "    return\n",
        "\n",
        "  if key(value.raw) == key(same_rank_seq[0].raw):\n",
        "    yield from ranker(sorted_iter, base, same_rank_seq + [value], key)\n",
        "  else:\n",
        "    dups = len(same_rank_seq)\n",
        "    yield from yield_sequence((base+1+base+dups)/2, iter(same_rank_seq))\n",
        "    yield from ranker(sorted_iter, base+dups, [value], key)\n",
        "\n",
        "def rerank(rank_data_collections, key):\n",
        "  sorted_iter = iter(sorted(rank_data_collections, key=lambda obj : key(obj.raw)))\n",
        "  head = next(sorted_iter)\n",
        "  yield from ranker(sorted_iter, 0, [head], key)\n"
      ],
      "execution_count": 0,
      "outputs": []
    },
    {
      "cell_type": "code",
      "metadata": {
        "id": "23dNL_LEn9La",
        "colab_type": "code",
        "colab": {}
      },
      "source": [
        "def rank_data(data, key = lambda obj : obj):\n",
        "  if isinstance(data, collections.abc.Iterator):\n",
        "    yield from rank_data(tuple(data), key)\n",
        "    return\n",
        "\n",
        "  if not isinstance(data[0], Rank_Data):\n",
        "    yield from rank_data((Rank_Data((), d) for d in data), key)\n",
        "    return\n",
        "\n",
        "  yield from (Rank_Data(rd.rank_seq + (r,), rd.raw) for r, rd in rerank(data, key))"
      ],
      "execution_count": 0,
      "outputs": []
    },
    {
      "cell_type": "code",
      "metadata": {
        "id": "9loCMAc3iuNl",
        "colab_type": "code",
        "outputId": "de0fcc33-17f3-4c4a-a5e3-dcec20551483",
        "colab": {
          "base_uri": "https://localhost:8080/",
          "height": 134
        }
      },
      "source": [
        "scalars = [0.8, 1.2, 1.2, 2.3, 18]\n",
        "list(rank_data(scalars))"
      ],
      "execution_count": 0,
      "outputs": [
        {
          "output_type": "stream",
          "text": [
            "/usr/local/lib/python3.6/dist-packages/ipykernel_launcher.py:4: DeprecationWarning: generator 'yield_sequence' raised StopIteration\n",
            "  after removing the cwd from sys.path.\n"
          ],
          "name": "stderr"
        },
        {
          "output_type": "execute_result",
          "data": {
            "text/plain": [
              "[Rank_Data(rank_seq=(1.0,), raw=0.8),\n",
              " Rank_Data(rank_seq=(2.5,), raw=1.2),\n",
              " Rank_Data(rank_seq=(2.5,), raw=1.2),\n",
              " Rank_Data(rank_seq=(4.0,), raw=2.3),\n",
              " Rank_Data(rank_seq=(5.0,), raw=18)]"
            ]
          },
          "metadata": {
            "tags": []
          },
          "execution_count": 46
        }
      ]
    },
    {
      "cell_type": "code",
      "metadata": {
        "id": "7K9uJlAqi2X0",
        "colab_type": "code",
        "outputId": "47f5185c-ea73-4c5b-af1e-d45ec193b616",
        "colab": {
          "base_uri": "https://localhost:8080/",
          "height": 134
        }
      },
      "source": [
        "pairs = ((2, 0.8), (3, 1.2), (5, 1.2), (7, 2.3), (11, 18))\n",
        "rank_x = tuple(rank_data(pairs, key=lambda x : x[0]))\n",
        "rank_x"
      ],
      "execution_count": 0,
      "outputs": [
        {
          "output_type": "stream",
          "text": [
            "/usr/local/lib/python3.6/dist-packages/ipykernel_launcher.py:4: DeprecationWarning: generator 'yield_sequence' raised StopIteration\n",
            "  after removing the cwd from sys.path.\n"
          ],
          "name": "stderr"
        },
        {
          "output_type": "execute_result",
          "data": {
            "text/plain": [
              "(Rank_Data(rank_seq=(1.0,), raw=(2, 0.8)),\n",
              " Rank_Data(rank_seq=(2.0,), raw=(3, 1.2)),\n",
              " Rank_Data(rank_seq=(3.0,), raw=(5, 1.2)),\n",
              " Rank_Data(rank_seq=(4.0,), raw=(7, 2.3)),\n",
              " Rank_Data(rank_seq=(5.0,), raw=(11, 18)))"
            ]
          },
          "metadata": {
            "tags": []
          },
          "execution_count": 40
        }
      ]
    },
    {
      "cell_type": "code",
      "metadata": {
        "id": "a2uYsm7ClFw1",
        "colab_type": "code",
        "outputId": "52243fdc-45cb-4a90-f0e0-d30df62c3a42",
        "colab": {
          "base_uri": "https://localhost:8080/",
          "height": 134
        }
      },
      "source": [
        "rank_xy = tuple(rank_data(rank_x, key=lambda x : x[1]))\n",
        "rank_xy"
      ],
      "execution_count": 0,
      "outputs": [
        {
          "output_type": "stream",
          "text": [
            "/usr/local/lib/python3.6/dist-packages/ipykernel_launcher.py:4: DeprecationWarning: generator 'yield_sequence' raised StopIteration\n",
            "  after removing the cwd from sys.path.\n"
          ],
          "name": "stderr"
        },
        {
          "output_type": "execute_result",
          "data": {
            "text/plain": [
              "(Rank_Data(rank_seq=(1.0, 1.0), raw=(2, 0.8)),\n",
              " Rank_Data(rank_seq=(2.0, 2.5), raw=(3, 1.2)),\n",
              " Rank_Data(rank_seq=(3.0, 2.5), raw=(5, 1.2)),\n",
              " Rank_Data(rank_seq=(4.0, 4.0), raw=(7, 2.3)),\n",
              " Rank_Data(rank_seq=(5.0, 5.0), raw=(11, 18)))"
            ]
          },
          "metadata": {
            "tags": []
          },
          "execution_count": 41
        }
      ]
    },
    {
      "cell_type": "code",
      "metadata": {
        "id": "DS7mmrkklRSw",
        "colab_type": "code",
        "colab": {
          "base_uri": "https://localhost:8080/",
          "height": 185
        },
        "outputId": "45647cb5-dde9-4b06-958d-db6f6358e71c"
      },
      "source": [
        "from itertools import cycle\n",
        "m3 = (i==0 for i in cycle(range(3)))\n",
        "list(zip(range(10), m3))"
      ],
      "execution_count": 5,
      "outputs": [
        {
          "output_type": "execute_result",
          "data": {
            "text/plain": [
              "[(0, True),\n",
              " (1, False),\n",
              " (2, False),\n",
              " (3, True),\n",
              " (4, False),\n",
              " (5, False),\n",
              " (6, True),\n",
              " (7, False),\n",
              " (8, False),\n",
              " (9, True)]"
            ]
          },
          "metadata": {
            "tags": []
          },
          "execution_count": 5
        }
      ]
    },
    {
      "cell_type": "code",
      "metadata": {
        "id": "Pn1x8VvLzv-b",
        "colab_type": "code",
        "colab": {
          "base_uri": "https://localhost:8080/",
          "height": 162
        },
        "outputId": "110b3763-171b-4388-dc7b-8ebed7c5bc50"
      },
      "source": [
        "list(zip(range(10), cycle(1)))"
      ],
      "execution_count": 6,
      "outputs": [
        {
          "output_type": "error",
          "ename": "TypeError",
          "evalue": "ignored",
          "traceback": [
            "\u001b[0;31m---------------------------------------------------------------------------\u001b[0m",
            "\u001b[0;31mTypeError\u001b[0m                                 Traceback (most recent call last)",
            "\u001b[0;32m<ipython-input-6-5e1c9ee8db9f>\u001b[0m in \u001b[0;36m<module>\u001b[0;34m()\u001b[0m\n\u001b[0;32m----> 1\u001b[0;31m \u001b[0mlist\u001b[0m\u001b[0;34m(\u001b[0m\u001b[0mzip\u001b[0m\u001b[0;34m(\u001b[0m\u001b[0mrange\u001b[0m\u001b[0;34m(\u001b[0m\u001b[0;36m10\u001b[0m\u001b[0;34m)\u001b[0m\u001b[0;34m,\u001b[0m \u001b[0mcycle\u001b[0m\u001b[0;34m(\u001b[0m\u001b[0;36m1\u001b[0m\u001b[0;34m)\u001b[0m\u001b[0;34m)\u001b[0m\u001b[0;34m)\u001b[0m\u001b[0;34m\u001b[0m\u001b[0;34m\u001b[0m\u001b[0m\n\u001b[0m",
            "\u001b[0;31mTypeError\u001b[0m: 'int' object is not iterable"
          ]
        }
      ]
    },
    {
      "cell_type": "code",
      "metadata": {
        "id": "8XECmwMe7chA",
        "colab_type": "code",
        "colab": {}
      },
      "source": [
        ""
      ],
      "execution_count": 0,
      "outputs": []
    }
  ]
}