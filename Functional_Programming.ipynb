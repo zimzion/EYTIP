{
  "nbformat": 4,
  "nbformat_minor": 0,
  "metadata": {
    "colab": {
      "name": "Functional Programming.ipynb",
      "provenance": [],
      "include_colab_link": true
    },
    "kernelspec": {
      "name": "python3",
      "display_name": "Python 3"
    }
  },
  "cells": [
    {
      "cell_type": "markdown",
      "metadata": {
        "id": "view-in-github",
        "colab_type": "text"
      },
      "source": [
        "<a href=\"https://colab.research.google.com/github/zimzion/EYTIP/blob/master/Functional_Programming.ipynb\" target=\"_parent\"><img src=\"https://colab.research.google.com/assets/colab-badge.svg\" alt=\"Open In Colab\"/></a>"
      ]
    },
    {
      "cell_type": "code",
      "metadata": {
        "id": "ZrAnJwSpWTsC",
        "colab_type": "code",
        "colab": {}
      },
      "source": [
        "import math\n",
        "import numpy as np"
      ],
      "execution_count": 0,
      "outputs": []
    },
    {
      "cell_type": "code",
      "metadata": {
        "id": "h2DWf9xAVVK_",
        "colab_type": "code",
        "colab": {}
      },
      "source": [
        "def pfactorsl(x):\n",
        "  if x % 2 == 0:\n",
        "    yield 2\n",
        "    if x // 2 > 1:\n",
        "      yield from pfactorsl(x // 2)\n",
        "    return\n",
        "\n",
        "  to = int(math.sqrt(x) + .5) + 1\n",
        "  for i in range(3, to, 2):\n",
        "    if x % i == 0:\n",
        "      yield i\n",
        "      if x // i > 1:\n",
        "        yield from pfactorsl(x // i)\n",
        "      return\n",
        "  yield x"
      ],
      "execution_count": 0,
      "outputs": []
    },
    {
      "cell_type": "code",
      "metadata": {
        "id": "WX5abn56WHie",
        "colab_type": "code",
        "outputId": "72028f94-73f9-4dc4-94a7-2017820af1cb",
        "colab": {
          "base_uri": "https://localhost:8080/",
          "height": 34
        }
      },
      "source": [
        "n = 1023\n",
        "factors = list(pfactorsl(n))\n",
        "n2 = np.prod(factors)\n",
        "mul_str = ' X '.join([str(e) for e in factors])\n",
        "print(f'{mul_str} = {n2} = {n} ({n==n2})')"
      ],
      "execution_count": 0,
      "outputs": [
        {
          "output_type": "stream",
          "text": [
            "3 X 11 X 31 = 1023 = 1023 (True)\n"
          ],
          "name": "stdout"
        }
      ]
    },
    {
      "cell_type": "code",
      "metadata": {
        "id": "bK92dmbyU9qJ",
        "colab_type": "code",
        "colab": {}
      },
      "source": [
        "import collections\n",
        "from collections import namedtuple\n",
        "\n",
        "Rank_Data = namedtuple(\"Rank_Data\", (\"rank_seq\", \"raw\"))"
      ],
      "execution_count": 0,
      "outputs": []
    },
    {
      "cell_type": "code",
      "metadata": {
        "id": "NkiADXcLWOaJ",
        "colab_type": "code",
        "colab": {}
      },
      "source": [
        "def yield_sequence(rank, same_rank_iter):\n",
        "  head = next(same_rank_iter)\n",
        "  yield rank, head\n",
        "  yield from yield_sequence(rank, same_rank_iter)\n",
        "\n",
        "def ranker(sorted_iter, base, same_rank_seq, key):\n",
        "  try:\n",
        "    value = next(sorted_iter)\n",
        "  except StopIteration:\n",
        "    dups = len(same_rank_seq)\n",
        "    yield from yield_sequence((base+1+base+dups)/2, iter(same_rank_seq))\n",
        "    return\n",
        "\n",
        "  if key(value.raw) == key(same_rank_seq[0].raw):\n",
        "    yield from ranker(sorted_iter, base, same_rank_seq + [value], key)\n",
        "  else:\n",
        "    dups = len(same_rank_seq)\n",
        "    yield from yield_sequence((base+1+base+dups)/2, iter(same_rank_seq))\n",
        "    yield from ranker(sorted_iter, base+dups, [value], key)\n",
        "\n",
        "def rerank(rank_data_collections, key):\n",
        "  sorted_iter = iter(sorted(rank_data_collections, key=lambda obj : key(obj.raw)))\n",
        "  head = next(sorted_iter)\n",
        "  yield from ranker(sorted_iter, 0, [head], key)\n"
      ],
      "execution_count": 0,
      "outputs": []
    },
    {
      "cell_type": "code",
      "metadata": {
        "id": "23dNL_LEn9La",
        "colab_type": "code",
        "colab": {}
      },
      "source": [
        "def rank_data(seq_or_iter, key = lambda obj : obj):\n",
        "  if isinstance(seq_or_iter, collections.abc.Iterator):\n",
        "    yield from rank_data(tuple(seq_or_iter), key)\n",
        "    return\n",
        "\n",
        "  data = seq_or_iter\n",
        "  head = seq_or_iter[0]\n",
        "\n",
        "  if not isinstance(head, Rank_Data):\n",
        "    yield from rank_data(tuple(Rank_Data((), d) for d in data), key)\n",
        "    return\n",
        "\n",
        "  yield from (Rank_Data(rd.rank_seq + (r,), rd.raw) for r, rd in rerank(data, key))"
      ],
      "execution_count": 0,
      "outputs": []
    },
    {
      "cell_type": "code",
      "metadata": {
        "id": "9loCMAc3iuNl",
        "colab_type": "code",
        "colab": {
          "base_uri": "https://localhost:8080/",
          "height": 134
        },
        "outputId": "f61f6f6c-b567-492c-ca34-5dc79d5ab9d5"
      },
      "source": [
        "scalars = [0.8, 1.2, 1.2, 2.3, 18]\n",
        "list(rank_data(scalars))"
      ],
      "execution_count": 31,
      "outputs": [
        {
          "output_type": "stream",
          "text": [
            "/usr/local/lib/python3.6/dist-packages/ipykernel_launcher.py:4: DeprecationWarning: generator 'yield_sequence' raised StopIteration\n",
            "  after removing the cwd from sys.path.\n"
          ],
          "name": "stderr"
        },
        {
          "output_type": "execute_result",
          "data": {
            "text/plain": [
              "[Rank_Data(rank_seq=(1.0,), raw=0.8),\n",
              " Rank_Data(rank_seq=(2.5,), raw=1.2),\n",
              " Rank_Data(rank_seq=(2.5,), raw=1.2),\n",
              " Rank_Data(rank_seq=(4.0,), raw=2.3),\n",
              " Rank_Data(rank_seq=(5.0,), raw=18)]"
            ]
          },
          "metadata": {
            "tags": []
          },
          "execution_count": 31
        }
      ]
    },
    {
      "cell_type": "code",
      "metadata": {
        "id": "7K9uJlAqi2X0",
        "colab_type": "code",
        "colab": {
          "base_uri": "https://localhost:8080/",
          "height": 134
        },
        "outputId": "65e2833b-a1b7-45b4-f852-80165930c826"
      },
      "source": [
        "pairs = ((2, 0.8), (3, 1.2), (5, 1.2), (7, 2.3), (11, 18))\n",
        "rank_x = tuple(rank_data(pairs, key=lambda x : x[0]))\n",
        "rank_x"
      ],
      "execution_count": 27,
      "outputs": [
        {
          "output_type": "stream",
          "text": [
            "/usr/local/lib/python3.6/dist-packages/ipykernel_launcher.py:4: DeprecationWarning: generator 'yield_sequence' raised StopIteration\n",
            "  after removing the cwd from sys.path.\n"
          ],
          "name": "stderr"
        },
        {
          "output_type": "execute_result",
          "data": {
            "text/plain": [
              "(Rank_Data(rank_seq=(1.0,), raw=(2, 0.8)),\n",
              " Rank_Data(rank_seq=(2.0,), raw=(3, 1.2)),\n",
              " Rank_Data(rank_seq=(3.0,), raw=(5, 1.2)),\n",
              " Rank_Data(rank_seq=(4.0,), raw=(7, 2.3)),\n",
              " Rank_Data(rank_seq=(5.0,), raw=(11, 18)))"
            ]
          },
          "metadata": {
            "tags": []
          },
          "execution_count": 27
        }
      ]
    },
    {
      "cell_type": "code",
      "metadata": {
        "id": "a2uYsm7ClFw1",
        "colab_type": "code",
        "colab": {
          "base_uri": "https://localhost:8080/",
          "height": 134
        },
        "outputId": "edf04d01-43f8-4ddc-a307-d0c6dc791bcd"
      },
      "source": [
        "rank_xy = tuple(rank_data(rank_x, key=lambda x : x[1]))\n",
        "rank_xy"
      ],
      "execution_count": 28,
      "outputs": [
        {
          "output_type": "stream",
          "text": [
            "/usr/local/lib/python3.6/dist-packages/ipykernel_launcher.py:4: DeprecationWarning: generator 'yield_sequence' raised StopIteration\n",
            "  after removing the cwd from sys.path.\n"
          ],
          "name": "stderr"
        },
        {
          "output_type": "execute_result",
          "data": {
            "text/plain": [
              "(Rank_Data(rank_seq=(1.0, 1.0), raw=(2, 0.8)),\n",
              " Rank_Data(rank_seq=(2.0, 2.5), raw=(3, 1.2)),\n",
              " Rank_Data(rank_seq=(3.0, 2.5), raw=(5, 1.2)),\n",
              " Rank_Data(rank_seq=(4.0, 4.0), raw=(7, 2.3)),\n",
              " Rank_Data(rank_seq=(5.0, 5.0), raw=(11, 18)))"
            ]
          },
          "metadata": {
            "tags": []
          },
          "execution_count": 28
        }
      ]
    },
    {
      "cell_type": "code",
      "metadata": {
        "id": "DS7mmrkklRSw",
        "colab_type": "code",
        "colab": {}
      },
      "source": [
        ""
      ],
      "execution_count": 0,
      "outputs": []
    }
  ]
}