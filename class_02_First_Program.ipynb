{
  "nbformat": 4,
  "nbformat_minor": 0,
  "metadata": {
    "colab": {
      "name": "class_02_First_Program.ipynb",
      "provenance": [],
      "include_colab_link": true
    },
    "kernelspec": {
      "name": "python3",
      "display_name": "Python 3"
    }
  },
  "cells": [
    {
      "cell_type": "markdown",
      "metadata": {
        "id": "view-in-github",
        "colab_type": "text"
      },
      "source": [
        "<a href=\"https://colab.research.google.com/github/zimzion/EYTIP/blob/master/class_02_First_Program.ipynb\" target=\"_parent\"><img src=\"https://colab.research.google.com/assets/colab-badge.svg\" alt=\"Open In Colab\"/></a>"
      ]
    },
    {
      "cell_type": "markdown",
      "metadata": {
        "id": "QN-m_hQPdwZS",
        "colab_type": "text"
      },
      "source": [
        "### String Manipulation"
      ]
    },
    {
      "cell_type": "code",
      "metadata": {
        "id": "PV6grSTWeYlH",
        "colab_type": "code",
        "colab": {
          "base_uri": "https://localhost:8080/",
          "height": 34
        },
        "outputId": "b22b92b0-fce7-4dbf-8a87-97b160f5f9da"
      },
      "source": [
        "s = 'abc'\n",
        "type(s)"
      ],
      "execution_count": 1,
      "outputs": [
        {
          "output_type": "execute_result",
          "data": {
            "text/plain": [
              "str"
            ]
          },
          "metadata": {
            "tags": []
          },
          "execution_count": 1
        }
      ]
    },
    {
      "cell_type": "code",
      "metadata": {
        "id": "YyRTpUgEfFXC",
        "colab_type": "code",
        "colab": {
          "base_uri": "https://localhost:8080/",
          "height": 34
        },
        "outputId": "77359e68-281d-4867-bb32-96bf466b6f17"
      },
      "source": [
        "len(s)"
      ],
      "execution_count": 2,
      "outputs": [
        {
          "output_type": "execute_result",
          "data": {
            "text/plain": [
              "3"
            ]
          },
          "metadata": {
            "tags": []
          },
          "execution_count": 2
        }
      ]
    },
    {
      "cell_type": "code",
      "metadata": {
        "id": "sEDf4BlYfMSC",
        "colab_type": "code",
        "colab": {
          "base_uri": "https://localhost:8080/",
          "height": 86
        },
        "outputId": "e5052356-8932-458a-fc33-09b8b02e8c3a"
      },
      "source": [
        "import sys\n",
        "print(sys.getsizeof(str()))\n",
        "print(sys.getsizeof('a'))\n",
        "print(sys.getsizeof('b'))\n",
        "print(sys.getsizeof('abc'))"
      ],
      "execution_count": 15,
      "outputs": [
        {
          "output_type": "stream",
          "text": [
            "53\n",
            "58\n",
            "58\n",
            "52\n"
          ],
          "name": "stdout"
        }
      ]
    },
    {
      "cell_type": "code",
      "metadata": {
        "id": "GdrlhyWQfZOH",
        "colab_type": "code",
        "colab": {
          "base_uri": "https://localhost:8080/",
          "height": 34
        },
        "outputId": "5d135d8a-95a7-4e40-8d25-cc772fcc2e17"
      },
      "source": [
        "'he said \"Hello\"'"
      ],
      "execution_count": 16,
      "outputs": [
        {
          "output_type": "execute_result",
          "data": {
            "text/plain": [
              "'he said \"Hello\"'"
            ]
          },
          "metadata": {
            "tags": []
          },
          "execution_count": 16
        }
      ]
    },
    {
      "cell_type": "code",
      "metadata": {
        "id": "ytD76gV0i9rY",
        "colab_type": "code",
        "colab": {
          "base_uri": "https://localhost:8080/",
          "height": 34
        },
        "outputId": "956454a0-ca60-4200-8a09-248bd232ae02"
      },
      "source": [
        "\"he said 'Hello'\""
      ],
      "execution_count": 18,
      "outputs": [
        {
          "output_type": "execute_result",
          "data": {
            "text/plain": [
              "\"he said 'Hello'\""
            ]
          },
          "metadata": {
            "tags": []
          },
          "execution_count": 18
        }
      ]
    },
    {
      "cell_type": "code",
      "metadata": {
        "id": "jfdQf4dRjBYD",
        "colab_type": "code",
        "colab": {
          "base_uri": "https://localhost:8080/",
          "height": 34
        },
        "outputId": "6d383cb4-f67d-4e96-de3a-c55a4ab5c1f1"
      },
      "source": [
        "\"\"\"This\n",
        "is \n",
        "a \n",
        "multiple\n",
        "lines\"\"\""
      ],
      "execution_count": 19,
      "outputs": [
        {
          "output_type": "execute_result",
          "data": {
            "text/plain": [
              "'This\\nis \\na \\nmultiple\\nlines'"
            ]
          },
          "metadata": {
            "tags": []
          },
          "execution_count": 19
        }
      ]
    },
    {
      "cell_type": "code",
      "metadata": {
        "id": "lOvZZcQojPBY",
        "colab_type": "code",
        "colab": {
          "base_uri": "https://localhost:8080/",
          "height": 34
        },
        "outputId": "ea7bc174-01fa-4615-faec-5dc51c1ba017"
      },
      "source": [
        "a = '''This\n",
        "is \n",
        "a \n",
        "multiple\n",
        "lines'''\n",
        "a"
      ],
      "execution_count": 22,
      "outputs": [
        {
          "output_type": "execute_result",
          "data": {
            "text/plain": [
              "'This\\nis \\na \\nmultiple\\nlines'"
            ]
          },
          "metadata": {
            "tags": []
          },
          "execution_count": 22
        }
      ]
    },
    {
      "cell_type": "code",
      "metadata": {
        "id": "g6v1gawqjWAF",
        "colab_type": "code",
        "colab": {
          "base_uri": "https://localhost:8080/",
          "height": 104
        },
        "outputId": "80ca5089-48f6-4c9f-964f-fe2f3b9f80fc"
      },
      "source": [
        "print(a)"
      ],
      "execution_count": 23,
      "outputs": [
        {
          "output_type": "stream",
          "text": [
            "This\n",
            "is \n",
            "a \n",
            "multiple\n",
            "lines\n"
          ],
          "name": "stdout"
        }
      ]
    },
    {
      "cell_type": "code",
      "metadata": {
        "id": "WrbJjbnvjU9d",
        "colab_type": "code",
        "colab": {
          "base_uri": "https://localhost:8080/",
          "height": 34
        },
        "outputId": "2c301d3c-e219-46a5-d448-a3f102adccb7"
      },
      "source": [
        "len(a)"
      ],
      "execution_count": 24,
      "outputs": [
        {
          "output_type": "execute_result",
          "data": {
            "text/plain": [
              "26"
            ]
          },
          "metadata": {
            "tags": []
          },
          "execution_count": 24
        }
      ]
    },
    {
      "cell_type": "code",
      "metadata": {
        "id": "06JU2aeajwpg",
        "colab_type": "code",
        "colab": {
          "base_uri": "https://localhost:8080/",
          "height": 34
        },
        "outputId": "00c9466b-d07c-44d8-b7d3-14e0a7ed7a5c"
      },
      "source": [
        "a = 'Hello '\n",
        "b = 'there'\n",
        "c = a + b\n",
        "print(c)"
      ],
      "execution_count": 25,
      "outputs": [
        {
          "output_type": "stream",
          "text": [
            "Hello there\n"
          ],
          "name": "stdout"
        }
      ]
    },
    {
      "cell_type": "markdown",
      "metadata": {
        "id": "rPv8fJsNkBzD",
        "colab_type": "text"
      },
      "source": [
        "* Polymorphism"
      ]
    },
    {
      "cell_type": "code",
      "metadata": {
        "id": "0yoKQNyukH94",
        "colab_type": "code",
        "colab": {
          "base_uri": "https://localhost:8080/",
          "height": 34
        },
        "outputId": "4ac48ceb-d940-46f6-b293-cfbeabab798a"
      },
      "source": [
        "a = 'abc'\n",
        "t = a * 3\n",
        "print(t)"
      ],
      "execution_count": 26,
      "outputs": [
        {
          "output_type": "stream",
          "text": [
            "abcabcabc\n"
          ],
          "name": "stdout"
        }
      ]
    },
    {
      "cell_type": "code",
      "metadata": {
        "id": "R6AtI89MkYHS",
        "colab_type": "code",
        "colab": {
          "base_uri": "https://localhost:8080/",
          "height": 69
        },
        "outputId": "210c5c4b-9fda-44aa-851f-8984c7c36103"
      },
      "source": [
        "print(a[0])\n",
        "print(a[1])\n",
        "print(a[2])"
      ],
      "execution_count": 28,
      "outputs": [
        {
          "output_type": "stream",
          "text": [
            "a\n",
            "b\n",
            "c\n"
          ],
          "name": "stdout"
        }
      ]
    },
    {
      "cell_type": "code",
      "metadata": {
        "id": "VncIoLiPkpMv",
        "colab_type": "code",
        "colab": {
          "base_uri": "https://localhost:8080/",
          "height": 34
        },
        "outputId": "4aa58979-9362-40db-f9d3-c1462b067ca0"
      },
      "source": [
        "print(a[-1])"
      ],
      "execution_count": 29,
      "outputs": [
        {
          "output_type": "stream",
          "text": [
            "c\n"
          ],
          "name": "stdout"
        }
      ]
    },
    {
      "cell_type": "markdown",
      "metadata": {
        "id": "DGWJQH2Okyz_",
        "colab_type": "text"
      },
      "source": [
        "* getitem Operator"
      ]
    },
    {
      "cell_type": "code",
      "metadata": {
        "id": "EEtkaQ_IlAzq",
        "colab_type": "code",
        "colab": {
          "base_uri": "https://localhost:8080/",
          "height": 86
        },
        "outputId": "75ae16f4-10e0-457d-cc9e-354d131d5613"
      },
      "source": [
        "print(a[0:2])\n",
        "print(a[0:1])\n",
        "print(a[-3:-1])\n",
        "print(a[-1:-3])"
      ],
      "execution_count": 40,
      "outputs": [
        {
          "output_type": "stream",
          "text": [
            "ab\n",
            "a\n",
            "ab\n",
            "\n"
          ],
          "name": "stdout"
        }
      ]
    },
    {
      "cell_type": "code",
      "metadata": {
        "id": "AHCPkAumlQrO",
        "colab_type": "code",
        "colab": {
          "base_uri": "https://localhost:8080/",
          "height": 139
        },
        "outputId": "fdacbd51-8706-4c2b-d528-2834e9eba39f"
      },
      "source": [
        "print(a[:2])\n",
        "print(a[2:])\n",
        "print(a[:])\n",
        "print(a[0:3:1])\n",
        "print(a[0:3:2])\n",
        "print(a[::2])\n",
        "print(a[::-1])"
      ],
      "execution_count": 37,
      "outputs": [
        {
          "output_type": "stream",
          "text": [
            "ab\n",
            "c\n",
            "abc\n",
            "abc\n",
            "ac\n",
            "ac\n",
            "cba\n"
          ],
          "name": "stdout"
        }
      ]
    },
    {
      "cell_type": "code",
      "metadata": {
        "id": "TuMWa-zyla-h",
        "colab_type": "code",
        "colab": {
          "base_uri": "https://localhost:8080/",
          "height": 52
        },
        "outputId": "6109fb92-3f91-4452-f4e9-986e5ac8b7e1"
      },
      "source": [
        "print(int('123'))\n",
        "print(float('1.23'))"
      ],
      "execution_count": 41,
      "outputs": [
        {
          "output_type": "stream",
          "text": [
            "123\n",
            "1.23\n"
          ],
          "name": "stdout"
        }
      ]
    },
    {
      "cell_type": "code",
      "metadata": {
        "id": "pPvOAe9imjYy",
        "colab_type": "code",
        "colab": {
          "base_uri": "https://localhost:8080/",
          "height": 168
        },
        "outputId": "a169f7bd-f631-44fc-f152-5c457c8e8dac"
      },
      "source": [
        "print(int('1.23'))"
      ],
      "execution_count": 42,
      "outputs": [
        {
          "output_type": "error",
          "ename": "ValueError",
          "evalue": "ignored",
          "traceback": [
            "\u001b[0;31m---------------------------------------------------------------------------\u001b[0m",
            "\u001b[0;31mValueError\u001b[0m                                Traceback (most recent call last)",
            "\u001b[0;32m<ipython-input-42-cc17e57051c7>\u001b[0m in \u001b[0;36m<module>\u001b[0;34m()\u001b[0m\n\u001b[0;32m----> 1\u001b[0;31m \u001b[0mprint\u001b[0m\u001b[0;34m(\u001b[0m\u001b[0mint\u001b[0m\u001b[0;34m(\u001b[0m\u001b[0;34m'1.23'\u001b[0m\u001b[0;34m)\u001b[0m\u001b[0;34m)\u001b[0m\u001b[0;34m\u001b[0m\u001b[0;34m\u001b[0m\u001b[0m\n\u001b[0m",
            "\u001b[0;31mValueError\u001b[0m: invalid literal for int() with base 10: '1.23'"
          ]
        }
      ]
    },
    {
      "cell_type": "code",
      "metadata": {
        "id": "2DRMZDoRmlLf",
        "colab_type": "code",
        "colab": {
          "base_uri": "https://localhost:8080/",
          "height": 52
        },
        "outputId": "2b7a1428-6d37-4e5e-9d65-51a8fefbb727"
      },
      "source": [
        "print(float('inf'))\n",
        "print(float('-inf'))"
      ],
      "execution_count": 46,
      "outputs": [
        {
          "output_type": "stream",
          "text": [
            "inf\n",
            "-inf\n"
          ],
          "name": "stdout"
        }
      ]
    },
    {
      "cell_type": "code",
      "metadata": {
        "id": "ChSl2Sz4se7y",
        "colab_type": "code",
        "colab": {
          "base_uri": "https://localhost:8080/",
          "height": 34
        },
        "outputId": "469231d9-cb88-40e3-c8cc-f927e166cc63"
      },
      "source": [
        "a = 100\n",
        "b = 1 / 7\n",
        "print(a, b)"
      ],
      "execution_count": 70,
      "outputs": [
        {
          "output_type": "stream",
          "text": [
            "100 0.14285714285714285\n"
          ],
          "name": "stdout"
        }
      ]
    },
    {
      "cell_type": "code",
      "metadata": {
        "id": "gI8YRxJmutId",
        "colab_type": "code",
        "colab": {
          "base_uri": "https://localhost:8080/",
          "height": 52
        },
        "outputId": "a0913d91-b0c5-4678-aa38-bd580e2cce6b"
      },
      "source": [
        "print('{0}, {1}'.format(a, b))\n",
        "print('{1}, {0}'.format(b, a))"
      ],
      "execution_count": 73,
      "outputs": [
        {
          "output_type": "stream",
          "text": [
            "100, 0.14285714285714285\n",
            "100, 0.14285714285714285\n"
          ],
          "name": "stdout"
        }
      ]
    },
    {
      "cell_type": "code",
      "metadata": {
        "id": "HRuiy5HDu0ZW",
        "colab_type": "code",
        "colab": {
          "base_uri": "https://localhost:8080/",
          "height": 121
        },
        "outputId": "e222d57a-a763-4b9f-93ec-3721dcc98956"
      },
      "source": [
        "print('a = {0:d}, b = {1:0.3f}'.format(a, b))\n",
        "print(f'a = {a:d}, b = {b:0.3f}')\n",
        "print(f'a = {a:04d}, b = {b:0.3f}')\n",
        "print(f'a = {a:>10d}, b = {b:>10.3f}')\n",
        "print(f'a = {a:<10d}, b = {b:<10.3f}')\n",
        "print(f'a = {a:^10d}, b = {b:^10.3f}')"
      ],
      "execution_count": 89,
      "outputs": [
        {
          "output_type": "stream",
          "text": [
            "a = 100, b = 0.143\n",
            "a = 100, b = 0.143\n",
            "a = 0100, b = 0.143\n",
            "a =        100, b =      0.143\n",
            "a = 100       , b = 0.143     \n",
            "a =    100    , b =   0.143   \n"
          ],
          "name": "stdout"
        }
      ]
    },
    {
      "cell_type": "code",
      "metadata": {
        "id": "gxMHKa5mvGNS",
        "colab_type": "code",
        "colab": {}
      },
      "source": [
        ""
      ],
      "execution_count": 0,
      "outputs": []
    }
  ]
}