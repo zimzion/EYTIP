{
  "nbformat": 4,
  "nbformat_minor": 0,
  "metadata": {
    "colab": {
      "name": "class_02_First_Program.ipynb",
      "provenance": [],
      "toc_visible": true,
      "include_colab_link": true
    },
    "kernelspec": {
      "name": "python3",
      "display_name": "Python 3"
    }
  },
  "cells": [
    {
      "cell_type": "markdown",
      "metadata": {
        "id": "view-in-github",
        "colab_type": "text"
      },
      "source": [
        "<a href=\"https://colab.research.google.com/github/zimzion/EYTIP/blob/master/class_02_First_Program.ipynb\" target=\"_parent\"><img src=\"https://colab.research.google.com/assets/colab-badge.svg\" alt=\"Open In Colab\"/></a>"
      ]
    },
    {
      "cell_type": "markdown",
      "metadata": {
        "id": "QN-m_hQPdwZS",
        "colab_type": "text"
      },
      "source": [
        "### String Manipulation"
      ]
    },
    {
      "cell_type": "code",
      "metadata": {
        "id": "PV6grSTWeYlH",
        "colab_type": "code",
        "outputId": "0c7c0ad3-cdd0-4dfa-b423-468ab015339e",
        "colab": {
          "base_uri": "https://localhost:8080/",
          "height": 35
        }
      },
      "source": [
        "s = 'abc'\n",
        "type(s)"
      ],
      "execution_count": 18,
      "outputs": [
        {
          "output_type": "execute_result",
          "data": {
            "text/plain": [
              "str"
            ]
          },
          "metadata": {
            "tags": []
          },
          "execution_count": 18
        }
      ]
    },
    {
      "cell_type": "code",
      "metadata": {
        "id": "YyRTpUgEfFXC",
        "colab_type": "code",
        "outputId": "91a2dfb4-f943-47a2-c81a-8abc647b5c0d",
        "colab": {
          "base_uri": "https://localhost:8080/",
          "height": 35
        }
      },
      "source": [
        "len(s)"
      ],
      "execution_count": 19,
      "outputs": [
        {
          "output_type": "execute_result",
          "data": {
            "text/plain": [
              "3"
            ]
          },
          "metadata": {
            "tags": []
          },
          "execution_count": 19
        }
      ]
    },
    {
      "cell_type": "code",
      "metadata": {
        "id": "sEDf4BlYfMSC",
        "colab_type": "code",
        "outputId": "c494d394-b37e-4b76-ab07-1ecfba0a1654",
        "colab": {
          "base_uri": "https://localhost:8080/",
          "height": 89
        }
      },
      "source": [
        "import sys\n",
        "print(sys.getsizeof(str()))\n",
        "print(sys.getsizeof('a'))\n",
        "print(sys.getsizeof('ab'))\n",
        "print(sys.getsizeof('abc'))"
      ],
      "execution_count": 20,
      "outputs": [
        {
          "output_type": "stream",
          "text": [
            "53\n",
            "58\n",
            "51\n",
            "52\n"
          ],
          "name": "stdout"
        }
      ]
    },
    {
      "cell_type": "code",
      "metadata": {
        "id": "GdrlhyWQfZOH",
        "colab_type": "code",
        "outputId": "f9048f81-10c8-4b5c-b93f-7030d202e692",
        "colab": {
          "base_uri": "https://localhost:8080/",
          "height": 35
        }
      },
      "source": [
        "'he said \"Hello\"'"
      ],
      "execution_count": 21,
      "outputs": [
        {
          "output_type": "execute_result",
          "data": {
            "text/plain": [
              "'he said \"Hello\"'"
            ]
          },
          "metadata": {
            "tags": []
          },
          "execution_count": 21
        }
      ]
    },
    {
      "cell_type": "code",
      "metadata": {
        "id": "ytD76gV0i9rY",
        "colab_type": "code",
        "outputId": "a3834baa-f9dc-45cd-e85e-17459b863ddc",
        "colab": {
          "base_uri": "https://localhost:8080/",
          "height": 35
        }
      },
      "source": [
        "\"he said 'Hello'\""
      ],
      "execution_count": 22,
      "outputs": [
        {
          "output_type": "execute_result",
          "data": {
            "text/plain": [
              "\"he said 'Hello'\""
            ]
          },
          "metadata": {
            "tags": []
          },
          "execution_count": 22
        }
      ]
    },
    {
      "cell_type": "code",
      "metadata": {
        "id": "jfdQf4dRjBYD",
        "colab_type": "code",
        "outputId": "42b1cc8e-2fc2-4e62-e722-c33c53c8b437",
        "colab": {
          "base_uri": "https://localhost:8080/",
          "height": 35
        }
      },
      "source": [
        "\"\"\"This\n",
        "is \n",
        "a \n",
        "multiple\n",
        "lines\"\"\""
      ],
      "execution_count": 23,
      "outputs": [
        {
          "output_type": "execute_result",
          "data": {
            "text/plain": [
              "'This\\nis \\na \\nmultiple\\nlines'"
            ]
          },
          "metadata": {
            "tags": []
          },
          "execution_count": 23
        }
      ]
    },
    {
      "cell_type": "code",
      "metadata": {
        "id": "lOvZZcQojPBY",
        "colab_type": "code",
        "outputId": "1e62e264-cc99-490b-9ac6-8007d766cd33",
        "colab": {
          "base_uri": "https://localhost:8080/",
          "height": 35
        }
      },
      "source": [
        "a = '''This\n",
        "is \n",
        "a \n",
        "multiple\n",
        "lines'''\n",
        "a"
      ],
      "execution_count": 24,
      "outputs": [
        {
          "output_type": "execute_result",
          "data": {
            "text/plain": [
              "'This\\nis \\na \\nmultiple\\nlines'"
            ]
          },
          "metadata": {
            "tags": []
          },
          "execution_count": 24
        }
      ]
    },
    {
      "cell_type": "code",
      "metadata": {
        "id": "g6v1gawqjWAF",
        "colab_type": "code",
        "outputId": "a5dca54c-eb58-47f7-f1d8-2f6000b50cdb",
        "colab": {
          "base_uri": "https://localhost:8080/",
          "height": 107
        }
      },
      "source": [
        "print(a)"
      ],
      "execution_count": 25,
      "outputs": [
        {
          "output_type": "stream",
          "text": [
            "This\n",
            "is \n",
            "a \n",
            "multiple\n",
            "lines\n"
          ],
          "name": "stdout"
        }
      ]
    },
    {
      "cell_type": "code",
      "metadata": {
        "id": "WrbJjbnvjU9d",
        "colab_type": "code",
        "outputId": "7bfd380e-1778-4dda-a445-a000253ae537",
        "colab": {
          "base_uri": "https://localhost:8080/",
          "height": 35
        }
      },
      "source": [
        "len(a)"
      ],
      "execution_count": 26,
      "outputs": [
        {
          "output_type": "execute_result",
          "data": {
            "text/plain": [
              "26"
            ]
          },
          "metadata": {
            "tags": []
          },
          "execution_count": 26
        }
      ]
    },
    {
      "cell_type": "code",
      "metadata": {
        "id": "06JU2aeajwpg",
        "colab_type": "code",
        "outputId": "3bd5625e-4970-402a-a6cd-f3f0336fcf41",
        "colab": {
          "base_uri": "https://localhost:8080/",
          "height": 35
        }
      },
      "source": [
        "a = 'Hello '\n",
        "b = 'there'\n",
        "c = a + b\n",
        "print(c)"
      ],
      "execution_count": 27,
      "outputs": [
        {
          "output_type": "stream",
          "text": [
            "Hello there\n"
          ],
          "name": "stdout"
        }
      ]
    },
    {
      "cell_type": "markdown",
      "metadata": {
        "id": "rPv8fJsNkBzD",
        "colab_type": "text"
      },
      "source": [
        "* Polymorphism"
      ]
    },
    {
      "cell_type": "code",
      "metadata": {
        "id": "0yoKQNyukH94",
        "colab_type": "code",
        "outputId": "fdd75bf1-155a-4a6f-c9a9-3216b9527464",
        "colab": {
          "base_uri": "https://localhost:8080/",
          "height": 35
        }
      },
      "source": [
        "a = 'abc'\n",
        "t = a * 3\n",
        "print(t)"
      ],
      "execution_count": 28,
      "outputs": [
        {
          "output_type": "stream",
          "text": [
            "abcabcabc\n"
          ],
          "name": "stdout"
        }
      ]
    },
    {
      "cell_type": "code",
      "metadata": {
        "id": "R6AtI89MkYHS",
        "colab_type": "code",
        "outputId": "65e179fb-2221-4e0f-9d93-b8d9b3e0d4d7",
        "colab": {
          "base_uri": "https://localhost:8080/",
          "height": 71
        }
      },
      "source": [
        "print(a[0])\n",
        "print(a[1])\n",
        "print(a[2])"
      ],
      "execution_count": 29,
      "outputs": [
        {
          "output_type": "stream",
          "text": [
            "a\n",
            "b\n",
            "c\n"
          ],
          "name": "stdout"
        }
      ]
    },
    {
      "cell_type": "code",
      "metadata": {
        "id": "VncIoLiPkpMv",
        "colab_type": "code",
        "outputId": "cb60d109-9e84-4fa0-d926-ea7d556c5046",
        "colab": {
          "base_uri": "https://localhost:8080/",
          "height": 35
        }
      },
      "source": [
        "print(a[-1])"
      ],
      "execution_count": 30,
      "outputs": [
        {
          "output_type": "stream",
          "text": [
            "c\n"
          ],
          "name": "stdout"
        }
      ]
    },
    {
      "cell_type": "markdown",
      "metadata": {
        "id": "DGWJQH2Okyz_",
        "colab_type": "text"
      },
      "source": [
        "* getitem Operator"
      ]
    },
    {
      "cell_type": "code",
      "metadata": {
        "id": "EEtkaQ_IlAzq",
        "colab_type": "code",
        "outputId": "933d59fc-8c9c-4dc0-dd23-6a0b6a263314",
        "colab": {
          "base_uri": "https://localhost:8080/",
          "height": 89
        }
      },
      "source": [
        "print(a[0:2])\n",
        "print(a[0:1])\n",
        "print(a[-3:-1])\n",
        "print(a[-1:-3])"
      ],
      "execution_count": 31,
      "outputs": [
        {
          "output_type": "stream",
          "text": [
            "ab\n",
            "a\n",
            "ab\n",
            "\n"
          ],
          "name": "stdout"
        }
      ]
    },
    {
      "cell_type": "code",
      "metadata": {
        "id": "AHCPkAumlQrO",
        "colab_type": "code",
        "outputId": "715cb5e3-5dd9-4c21-d081-f5078239710f",
        "colab": {
          "base_uri": "https://localhost:8080/",
          "height": 143
        }
      },
      "source": [
        "print(a[:2])\n",
        "print(a[2:])\n",
        "print(a[:])\n",
        "print(a[0:3:1])\n",
        "print(a[0:3:2])\n",
        "print(a[::2])\n",
        "print(a[::-1])"
      ],
      "execution_count": 32,
      "outputs": [
        {
          "output_type": "stream",
          "text": [
            "ab\n",
            "c\n",
            "abc\n",
            "abc\n",
            "ac\n",
            "ac\n",
            "cba\n"
          ],
          "name": "stdout"
        }
      ]
    },
    {
      "cell_type": "code",
      "metadata": {
        "id": "TuMWa-zyla-h",
        "colab_type": "code",
        "outputId": "f37ee34b-db68-47fa-8f66-cce10bf1e23a",
        "colab": {
          "base_uri": "https://localhost:8080/",
          "height": 53
        }
      },
      "source": [
        "print(int('123'))\n",
        "print(float('1.23'))"
      ],
      "execution_count": 33,
      "outputs": [
        {
          "output_type": "stream",
          "text": [
            "123\n",
            "1.23\n"
          ],
          "name": "stdout"
        }
      ]
    },
    {
      "cell_type": "code",
      "metadata": {
        "id": "pPvOAe9imjYy",
        "colab_type": "code",
        "outputId": "a96b3565-47a5-415c-97ed-e1be47d4f92e",
        "colab": {
          "base_uri": "https://localhost:8080/",
          "height": 172
        }
      },
      "source": [
        "print(int('1.23'))"
      ],
      "execution_count": 34,
      "outputs": [
        {
          "output_type": "error",
          "ename": "ValueError",
          "evalue": "ignored",
          "traceback": [
            "\u001b[0;31m---------------------------------------------------------------------------\u001b[0m",
            "\u001b[0;31mValueError\u001b[0m                                Traceback (most recent call last)",
            "\u001b[0;32m<ipython-input-34-cc17e57051c7>\u001b[0m in \u001b[0;36m<module>\u001b[0;34m()\u001b[0m\n\u001b[0;32m----> 1\u001b[0;31m \u001b[0mprint\u001b[0m\u001b[0;34m(\u001b[0m\u001b[0mint\u001b[0m\u001b[0;34m(\u001b[0m\u001b[0;34m'1.23'\u001b[0m\u001b[0;34m)\u001b[0m\u001b[0;34m)\u001b[0m\u001b[0;34m\u001b[0m\u001b[0;34m\u001b[0m\u001b[0m\n\u001b[0m",
            "\u001b[0;31mValueError\u001b[0m: invalid literal for int() with base 10: '1.23'"
          ]
        }
      ]
    },
    {
      "cell_type": "code",
      "metadata": {
        "id": "2DRMZDoRmlLf",
        "colab_type": "code",
        "outputId": "c1205846-bf43-4107-9266-31bab442b969",
        "colab": {
          "base_uri": "https://localhost:8080/",
          "height": 53
        }
      },
      "source": [
        "print(float('inf'))\n",
        "print(float('-inf'))"
      ],
      "execution_count": 35,
      "outputs": [
        {
          "output_type": "stream",
          "text": [
            "inf\n",
            "-inf\n"
          ],
          "name": "stdout"
        }
      ]
    },
    {
      "cell_type": "code",
      "metadata": {
        "id": "ChSl2Sz4se7y",
        "colab_type": "code",
        "outputId": "1d13419c-d25a-4521-d97d-6096b55377f7",
        "colab": {
          "base_uri": "https://localhost:8080/",
          "height": 35
        }
      },
      "source": [
        "a = 100\n",
        "b = 1 / 7\n",
        "print(a, b)"
      ],
      "execution_count": 36,
      "outputs": [
        {
          "output_type": "stream",
          "text": [
            "100 0.14285714285714285\n"
          ],
          "name": "stdout"
        }
      ]
    },
    {
      "cell_type": "code",
      "metadata": {
        "id": "gI8YRxJmutId",
        "colab_type": "code",
        "outputId": "dcc71918-56dd-47d7-8c13-f177c52837fe",
        "colab": {
          "base_uri": "https://localhost:8080/",
          "height": 53
        }
      },
      "source": [
        "print('{0}, {1}'.format(a, b))\n",
        "print('{1}, {0}'.format(b, a))"
      ],
      "execution_count": 37,
      "outputs": [
        {
          "output_type": "stream",
          "text": [
            "100, 0.14285714285714285\n",
            "100, 0.14285714285714285\n"
          ],
          "name": "stdout"
        }
      ]
    },
    {
      "cell_type": "code",
      "metadata": {
        "id": "HRuiy5HDu0ZW",
        "colab_type": "code",
        "outputId": "1b4d1cbe-699a-47cd-fa1c-f0beeef2bb3a",
        "colab": {
          "base_uri": "https://localhost:8080/",
          "height": 125
        }
      },
      "source": [
        "print('a = {0:d}, b = {1:.3f}'.format(a, b))\n",
        "print(f'a = {a:d}, b = {b:.3f}')\n",
        "print(f'a = {a:04d}, b = {b:.3f}')\n",
        "print(f'a = {a:>10d}, b = {b:>10.3f}')\n",
        "print(f'a = {a:<10d}, b = {b:<10.3f}')\n",
        "print(f'a = {a:^10d}, b = {b:^10.3f}')"
      ],
      "execution_count": 38,
      "outputs": [
        {
          "output_type": "stream",
          "text": [
            "a = 100, b = 0.143\n",
            "a = 100, b = 0.143\n",
            "a = 0100, b = 0.143\n",
            "a =        100, b =      0.143\n",
            "a = 100       , b = 0.143     \n",
            "a =    100    , b =   0.143   \n"
          ],
          "name": "stdout"
        }
      ]
    },
    {
      "cell_type": "code",
      "metadata": {
        "id": "gxMHKa5mvGNS",
        "colab_type": "code",
        "colab": {
          "base_uri": "https://localhost:8080/",
          "height": 35
        },
        "outputId": "631c659c-edef-4589-f51d-eaa141e42bed"
      },
      "source": [
        "ord('a')"
      ],
      "execution_count": 39,
      "outputs": [
        {
          "output_type": "execute_result",
          "data": {
            "text/plain": [
              "97"
            ]
          },
          "metadata": {
            "tags": []
          },
          "execution_count": 39
        }
      ]
    },
    {
      "cell_type": "code",
      "metadata": {
        "id": "HXTKW-E1BPQP",
        "colab_type": "code",
        "colab": {
          "base_uri": "https://localhost:8080/",
          "height": 35
        },
        "outputId": "7f7b5b8a-0603-4e92-d64e-e5a516ec48af"
      },
      "source": [
        "chr(97)"
      ],
      "execution_count": 40,
      "outputs": [
        {
          "output_type": "execute_result",
          "data": {
            "text/plain": [
              "'a'"
            ]
          },
          "metadata": {
            "tags": []
          },
          "execution_count": 40
        }
      ]
    },
    {
      "cell_type": "code",
      "metadata": {
        "id": "rVYkrdgFBU1h",
        "colab_type": "code",
        "colab": {
          "base_uri": "https://localhost:8080/",
          "height": 35
        },
        "outputId": "ac0e6b2f-0102-43e7-87e5-c2b75a6f060d"
      },
      "source": [
        "print(1/7)"
      ],
      "execution_count": 41,
      "outputs": [
        {
          "output_type": "stream",
          "text": [
            "0.14285714285714285\n"
          ],
          "name": "stdout"
        }
      ]
    },
    {
      "cell_type": "markdown",
      "metadata": {
        "id": "hUJbKrm8BmS3",
        "colab_type": "text"
      },
      "source": [
        "### The Structure of Python Programs"
      ]
    },
    {
      "cell_type": "code",
      "metadata": {
        "id": "8fOXk-NYGleR",
        "colab_type": "code",
        "colab": {}
      },
      "source": [
        "x = 1\n",
        "y = 'abc'\n",
        "import math"
      ],
      "execution_count": 0,
      "outputs": []
    },
    {
      "cell_type": "markdown",
      "metadata": {
        "id": "S9oPSJriGyUv",
        "colab_type": "text"
      },
      "source": [
        "![](https://github.com/zimzion/EYTIP/blob/master/IMG/Fig.3.4.png?raw=1)<br>\n",
        "Fig.3.4 Module name and binding table\n",
        "* Module\n",
        "* Global Binding Table\n",
        "* Module Binding Table\n",
        "* Dot Opeartor"
      ]
    },
    {
      "cell_type": "code",
      "metadata": {
        "colab_type": "code",
        "outputId": "aeda7bb2-fb66-401f-894b-147178c67c8a",
        "id": "Xy93W-k1Sjuy",
        "colab": {
          "base_uri": "https://localhost:8080/",
          "height": 35
        }
      },
      "source": [
        "import math as m\n",
        "m.e"
      ],
      "execution_count": 43,
      "outputs": [
        {
          "output_type": "execute_result",
          "data": {
            "text/plain": [
              "2.718281828459045"
            ]
          },
          "metadata": {
            "tags": []
          },
          "execution_count": 43
        }
      ]
    },
    {
      "cell_type": "code",
      "metadata": {
        "id": "zYH2FMcgSKdB",
        "colab_type": "code",
        "colab": {
          "base_uri": "https://localhost:8080/",
          "height": 35
        },
        "outputId": "31d1e55c-cba7-4d19-973e-a08f1512aee3"
      },
      "source": [
        "%%writefile hello.py\n",
        "greeting = 'Hello world'\n",
        "print(greeting)"
      ],
      "execution_count": 44,
      "outputs": [
        {
          "output_type": "stream",
          "text": [
            "Overwriting hello.py\n"
          ],
          "name": "stdout"
        }
      ]
    },
    {
      "cell_type": "code",
      "metadata": {
        "id": "bBa0HOXASSlW",
        "colab_type": "code",
        "colab": {
          "base_uri": "https://localhost:8080/",
          "height": 35
        },
        "outputId": "0c81bc60-9780-4307-925b-5168aa06376e"
      },
      "source": [
        "!python hello.py"
      ],
      "execution_count": 45,
      "outputs": [
        {
          "output_type": "stream",
          "text": [
            "Hello world\n"
          ],
          "name": "stdout"
        }
      ]
    },
    {
      "cell_type": "code",
      "metadata": {
        "id": "XEyIFdfxSayz",
        "colab_type": "code",
        "colab": {
          "base_uri": "https://localhost:8080/",
          "height": 35
        },
        "outputId": "b7b61cf0-7a16-4557-ab0b-645329fec201"
      },
      "source": [
        "import hello"
      ],
      "execution_count": 46,
      "outputs": [
        {
          "output_type": "stream",
          "text": [
            "Hello world\n"
          ],
          "name": "stdout"
        }
      ]
    },
    {
      "cell_type": "code",
      "metadata": {
        "id": "joutPjHWS4Hy",
        "colab_type": "code",
        "colab": {
          "base_uri": "https://localhost:8080/",
          "height": 35
        },
        "outputId": "433cc661-f2f1-4de0-da09-d01867bfb835"
      },
      "source": [
        "hello.greeting"
      ],
      "execution_count": 47,
      "outputs": [
        {
          "output_type": "execute_result",
          "data": {
            "text/plain": [
              "'Hello world'"
            ]
          },
          "metadata": {
            "tags": []
          },
          "execution_count": 47
        }
      ]
    },
    {
      "cell_type": "code",
      "metadata": {
        "id": "9cNepzTkFfGV",
        "colab_type": "code",
        "colab": {
          "base_uri": "https://localhost:8080/",
          "height": 35
        },
        "outputId": "a2750d16-27ab-467d-994e-a03305bdb910"
      },
      "source": [
        "%%writefile hello.py\n",
        "greeting = 'Hello world'\n",
        "print(f'{greeting} in {__name__}')"
      ],
      "execution_count": 48,
      "outputs": [
        {
          "output_type": "stream",
          "text": [
            "Overwriting hello.py\n"
          ],
          "name": "stdout"
        }
      ]
    },
    {
      "cell_type": "code",
      "metadata": {
        "id": "qjbn-1VBHGLQ",
        "colab_type": "code",
        "colab": {
          "base_uri": "https://localhost:8080/",
          "height": 35
        },
        "outputId": "45d70aa0-ac85-4977-bbc8-be274aca7798"
      },
      "source": [
        "!python hello.py"
      ],
      "execution_count": 49,
      "outputs": [
        {
          "output_type": "stream",
          "text": [
            "Hello world in __main__\n"
          ],
          "name": "stdout"
        }
      ]
    },
    {
      "cell_type": "code",
      "metadata": {
        "id": "i4pAfECoHHzU",
        "colab_type": "code",
        "colab": {}
      },
      "source": [
        "import hello"
      ],
      "execution_count": 0,
      "outputs": []
    },
    {
      "cell_type": "code",
      "metadata": {
        "id": "BWE30rU5HLUR",
        "colab_type": "code",
        "colab": {
          "base_uri": "https://localhost:8080/",
          "height": 53
        },
        "outputId": "fac2a2f3-0721-4549-97f5-1c119c8d4a58"
      },
      "source": [
        "import importlib\n",
        "importlib.reload(hello)"
      ],
      "execution_count": 51,
      "outputs": [
        {
          "output_type": "stream",
          "text": [
            "Hello world in hello\n"
          ],
          "name": "stdout"
        },
        {
          "output_type": "execute_result",
          "data": {
            "text/plain": [
              "<module 'hello' from '/content/hello.py'>"
            ]
          },
          "metadata": {
            "tags": []
          },
          "execution_count": 51
        }
      ]
    },
    {
      "cell_type": "code",
      "metadata": {
        "id": "NaX9dlp8Husj",
        "colab_type": "code",
        "colab": {
          "base_uri": "https://localhost:8080/",
          "height": 35
        },
        "outputId": "3b402d23-cb94-4450-8abd-1fcd866b789d"
      },
      "source": [
        "%%writefile hello.py\n",
        "greeting = 'Hello world'\n",
        "\n",
        "if __name__ == '__main__':\n",
        "  print(f'{greeting} in {__name__}')\n",
        "else:\n",
        "  print('loaded as a module')"
      ],
      "execution_count": 55,
      "outputs": [
        {
          "output_type": "stream",
          "text": [
            "Overwriting hello.py\n"
          ],
          "name": "stdout"
        }
      ]
    },
    {
      "cell_type": "code",
      "metadata": {
        "id": "4XPs4kiCIYh8",
        "colab_type": "code",
        "colab": {
          "base_uri": "https://localhost:8080/",
          "height": 35
        },
        "outputId": "b5e5d94f-b07d-4b44-a585-710151a6046d"
      },
      "source": [
        "!python hello.py"
      ],
      "execution_count": 56,
      "outputs": [
        {
          "output_type": "stream",
          "text": [
            "Hello world in __main__\n"
          ],
          "name": "stdout"
        }
      ]
    },
    {
      "cell_type": "code",
      "metadata": {
        "id": "FaR5hERRIbMD",
        "colab_type": "code",
        "colab": {
          "base_uri": "https://localhost:8080/",
          "height": 53
        },
        "outputId": "21263243-0761-4e98-f2ca-e2275c50f340"
      },
      "source": [
        "importlib.reload(hello)"
      ],
      "execution_count": 57,
      "outputs": [
        {
          "output_type": "stream",
          "text": [
            "loaded as a module\n"
          ],
          "name": "stdout"
        },
        {
          "output_type": "execute_result",
          "data": {
            "text/plain": [
              "<module 'hello' from '/content/hello.py'>"
            ]
          },
          "metadata": {
            "tags": []
          },
          "execution_count": 57
        }
      ]
    },
    {
      "cell_type": "code",
      "metadata": {
        "id": "f7kmTvtSIetn",
        "colab_type": "code",
        "colab": {}
      },
      "source": [
        ""
      ],
      "execution_count": 0,
      "outputs": []
    }
  ]
}